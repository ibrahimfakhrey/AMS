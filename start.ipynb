{
  "nbformat": 4,
  "nbformat_minor": 0,
  "metadata": {
    "colab": {
      "provenance": [],
      "authorship_tag": "ABX9TyN0JrjGau+8q9eplsdi06Yd",
      "include_colab_link": true
    },
    "kernelspec": {
      "name": "python3",
      "display_name": "Python 3"
    },
    "language_info": {
      "name": "python"
    }
  },
  "cells": [
    {
      "cell_type": "markdown",
      "metadata": {
        "id": "view-in-github",
        "colab_type": "text"
      },
      "source": [
        "<a href=\"https://colab.research.google.com/github/ibrahimfakhrey/AMS/blob/main/start.ipynb\" target=\"_parent\"><img src=\"https://colab.research.google.com/assets/colab-badge.svg\" alt=\"Open In Colab\"/></a>"
      ]
    },
    {
      "cell_type": "code",
      "execution_count": 1,
      "metadata": {
        "colab": {
          "base_uri": "https://localhost:8080/"
        },
        "id": "SN28Bng0WZPa",
        "outputId": "4774b925-9b6c-4713-d9cc-c0275fac6bcc"
      },
      "outputs": [
        {
          "output_type": "stream",
          "name": "stdout",
          "text": [
            "2.15.0\n"
          ]
        }
      ],
      "source": [
        "import tensorflow as tf\n",
        "print(tf.__version__)"
      ]
    },
    {
      "cell_type": "code",
      "source": [
        "scalar=tf.constant(7)\n",
        "scalar"
      ],
      "metadata": {
        "colab": {
          "base_uri": "https://localhost:8080/"
        },
        "id": "_gZCwSVMXMYo",
        "outputId": "1da8f229-0527-4b52-c1a7-10af848d2144"
      },
      "execution_count": null,
      "outputs": [
        {
          "output_type": "execute_result",
          "data": {
            "text/plain": [
              "<tf.Tensor: shape=(), dtype=int32, numpy=7>"
            ]
          },
          "metadata": {},
          "execution_count": 3
        }
      ]
    },
    {
      "cell_type": "code",
      "source": [
        "scalar.ndim"
      ],
      "metadata": {
        "colab": {
          "base_uri": "https://localhost:8080/"
        },
        "id": "LBq6wf-PXSwh",
        "outputId": "b3fc1016-b60a-4d44-abde-3bf62edeab26"
      },
      "execution_count": null,
      "outputs": [
        {
          "output_type": "execute_result",
          "data": {
            "text/plain": [
              "0"
            ]
          },
          "metadata": {},
          "execution_count": 4
        }
      ]
    },
    {
      "cell_type": "code",
      "source": [
        "s=tf.constant([[10,20],[20,10]])\n",
        "s"
      ],
      "metadata": {
        "colab": {
          "base_uri": "https://localhost:8080/"
        },
        "id": "Kj6BaMENXWUg",
        "outputId": "62f9559e-e486-430c-f7f7-d4e44c3f45ee"
      },
      "execution_count": null,
      "outputs": [
        {
          "output_type": "execute_result",
          "data": {
            "text/plain": [
              "<tf.Tensor: shape=(2, 2), dtype=int32, numpy=\n",
              "array([[10, 20],\n",
              "       [20, 10]], dtype=int32)>"
            ]
          },
          "metadata": {},
          "execution_count": 5
        }
      ]
    },
    {
      "cell_type": "code",
      "source": [
        "s.ndim"
      ],
      "metadata": {
        "colab": {
          "base_uri": "https://localhost:8080/"
        },
        "id": "bBEncPaSXgxB",
        "outputId": "e7dc4238-4675-4bcd-c8f6-3b816e86734b"
      },
      "execution_count": null,
      "outputs": [
        {
          "output_type": "execute_result",
          "data": {
            "text/plain": [
              "2"
            ]
          },
          "metadata": {},
          "execution_count": 6
        }
      ]
    },
    {
      "cell_type": "code",
      "source": [
        "changable=tf.Variable([10,7])\n",
        "changable"
      ],
      "metadata": {
        "colab": {
          "base_uri": "https://localhost:8080/"
        },
        "id": "cyaqKS76XzD_",
        "outputId": "d4b3bf0d-6360-432f-fdca-cc77021f9ca6"
      },
      "execution_count": null,
      "outputs": [
        {
          "output_type": "execute_result",
          "data": {
            "text/plain": [
              "<tf.Variable 'Variable:0' shape=(2,) dtype=int32, numpy=array([10,  7], dtype=int32)>"
            ]
          },
          "metadata": {},
          "execution_count": 7
        }
      ]
    },
    {
      "cell_type": "code",
      "source": [
        "changable[0].assign(7)\n",
        "changable"
      ],
      "metadata": {
        "colab": {
          "base_uri": "https://localhost:8080/"
        },
        "id": "8B7Dwty1Y_Pz",
        "outputId": "0651ec35-7c62-49b7-ff10-8522188ab2e3"
      },
      "execution_count": null,
      "outputs": [
        {
          "output_type": "execute_result",
          "data": {
            "text/plain": [
              "<tf.Variable 'Variable:0' shape=(2,) dtype=int32, numpy=array([7, 7], dtype=int32)>"
            ]
          },
          "metadata": {},
          "execution_count": 8
        }
      ]
    },
    {
      "cell_type": "code",
      "source": [
        "r_1=tf.random.Generator.from_seed(7)\n",
        "r_1=r_1.normal(shape=(3,2))\n",
        "r_1"
      ],
      "metadata": {
        "colab": {
          "base_uri": "https://localhost:8080/"
        },
        "id": "pUncMCHrZFxa",
        "outputId": "633cb5ae-dbfa-46bd-9e93-5e3b7261bf3b"
      },
      "execution_count": null,
      "outputs": [
        {
          "output_type": "execute_result",
          "data": {
            "text/plain": [
              "<tf.Tensor: shape=(3, 2), dtype=float32, numpy=\n",
              "array([[-1.3240396 ,  0.28785667],\n",
              "       [-0.8757901 , -0.08857018],\n",
              "       [ 0.69211644,  0.84215707]], dtype=float32)>"
            ]
          },
          "metadata": {},
          "execution_count": 9
        }
      ]
    },
    {
      "cell_type": "code",
      "source": [
        "r_2=tf.random.Generator.from_seed(7)\n",
        "r_2=r_2.normal(shape=(3,2))\n",
        "r_2"
      ],
      "metadata": {
        "colab": {
          "base_uri": "https://localhost:8080/"
        },
        "id": "rEPdxRWiaxGV",
        "outputId": "986a9a42-11cd-43f1-d2be-9dbc20d2f3f9"
      },
      "execution_count": null,
      "outputs": [
        {
          "output_type": "execute_result",
          "data": {
            "text/plain": [
              "<tf.Tensor: shape=(3, 2), dtype=float32, numpy=\n",
              "array([[-1.3240396 ,  0.28785667],\n",
              "       [-0.8757901 , -0.08857018],\n",
              "       [ 0.69211644,  0.84215707]], dtype=float32)>"
            ]
          },
          "metadata": {},
          "execution_count": 10
        }
      ]
    },
    {
      "cell_type": "code",
      "source": [
        "not_shuffle=tf.constant([[10,7],\n",
        "                         [3,4],\n",
        "                         [2,5]\n",
        "\n",
        "])\n",
        "tf.random.shuffle(not_shuffle,seed=42)"
      ],
      "metadata": {
        "colab": {
          "base_uri": "https://localhost:8080/"
        },
        "id": "R_fKahlIbBG3",
        "outputId": "56488641-6068-4a73-aa28-e3a0418f34ba"
      },
      "execution_count": null,
      "outputs": [
        {
          "output_type": "execute_result",
          "data": {
            "text/plain": [
              "<tf.Tensor: shape=(3, 2), dtype=int32, numpy=\n",
              "array([[ 2,  5],\n",
              "       [ 3,  4],\n",
              "       [10,  7]], dtype=int32)>"
            ]
          },
          "metadata": {},
          "execution_count": 11
        }
      ]
    },
    {
      "cell_type": "code",
      "source": [
        "tf.ones([10,7])"
      ],
      "metadata": {
        "colab": {
          "base_uri": "https://localhost:8080/"
        },
        "id": "U9oQRJ1rcpR3",
        "outputId": "1078cfa0-0e9c-4126-d9c8-8cf0d8673cf2"
      },
      "execution_count": null,
      "outputs": [
        {
          "output_type": "execute_result",
          "data": {
            "text/plain": [
              "<tf.Tensor: shape=(10, 7), dtype=float32, numpy=\n",
              "array([[1., 1., 1., 1., 1., 1., 1.],\n",
              "       [1., 1., 1., 1., 1., 1., 1.],\n",
              "       [1., 1., 1., 1., 1., 1., 1.],\n",
              "       [1., 1., 1., 1., 1., 1., 1.],\n",
              "       [1., 1., 1., 1., 1., 1., 1.],\n",
              "       [1., 1., 1., 1., 1., 1., 1.],\n",
              "       [1., 1., 1., 1., 1., 1., 1.],\n",
              "       [1., 1., 1., 1., 1., 1., 1.],\n",
              "       [1., 1., 1., 1., 1., 1., 1.],\n",
              "       [1., 1., 1., 1., 1., 1., 1.]], dtype=float32)>"
            ]
          },
          "metadata": {},
          "execution_count": 12
        }
      ]
    },
    {
      "cell_type": "code",
      "source": [
        "tf.zeros([3,4])"
      ],
      "metadata": {
        "colab": {
          "base_uri": "https://localhost:8080/"
        },
        "id": "Bpkxnl5JeiTb",
        "outputId": "7603f57b-0a94-4e31-ea90-f9c8994d1e78"
      },
      "execution_count": null,
      "outputs": [
        {
          "output_type": "execute_result",
          "data": {
            "text/plain": [
              "<tf.Tensor: shape=(3, 4), dtype=float32, numpy=\n",
              "array([[0., 0., 0., 0.],\n",
              "       [0., 0., 0., 0.],\n",
              "       [0., 0., 0., 0.]], dtype=float32)>"
            ]
          },
          "metadata": {},
          "execution_count": 13
        }
      ]
    },
    {
      "cell_type": "code",
      "source": [
        "import numpy as np\n",
        "numpy_A=np.arange(1,25,dtype=np.int32)\n",
        "numpy_A"
      ],
      "metadata": {
        "colab": {
          "base_uri": "https://localhost:8080/"
        },
        "id": "DnJW_n6ce34u",
        "outputId": "22ba08c7-336d-465a-d081-f8d4dc404f3e"
      },
      "execution_count": null,
      "outputs": [
        {
          "output_type": "execute_result",
          "data": {
            "text/plain": [
              "array([ 1,  2,  3,  4,  5,  6,  7,  8,  9, 10, 11, 12, 13, 14, 15, 16, 17,\n",
              "       18, 19, 20, 21, 22, 23, 24], dtype=int32)"
            ]
          },
          "metadata": {},
          "execution_count": 14
        }
      ]
    },
    {
      "cell_type": "code",
      "source": [
        "a=tf.constant(numpy_A,shape=(2,3,4))\n",
        "a"
      ],
      "metadata": {
        "colab": {
          "base_uri": "https://localhost:8080/"
        },
        "id": "Ogjs0NgafKI1",
        "outputId": "8d56d67f-7296-4363-a8c5-4f78e7de6465"
      },
      "execution_count": null,
      "outputs": [
        {
          "output_type": "execute_result",
          "data": {
            "text/plain": [
              "<tf.Tensor: shape=(2, 3, 4), dtype=int32, numpy=\n",
              "array([[[ 1,  2,  3,  4],\n",
              "        [ 5,  6,  7,  8],\n",
              "        [ 9, 10, 11, 12]],\n",
              "\n",
              "       [[13, 14, 15, 16],\n",
              "        [17, 18, 19, 20],\n",
              "        [21, 22, 23, 24]]], dtype=int32)>"
            ]
          },
          "metadata": {},
          "execution_count": 15
        }
      ]
    },
    {
      "cell_type": "code",
      "source": [
        "rank_4_tensor=tf.zeros(shape=[2,3,4,5])\n",
        "rank_4_tensor"
      ],
      "metadata": {
        "colab": {
          "base_uri": "https://localhost:8080/"
        },
        "id": "9qO6LeB2fRvv",
        "outputId": "c78d71a7-523c-44f6-b113-66cbe72b51a9"
      },
      "execution_count": null,
      "outputs": [
        {
          "output_type": "execute_result",
          "data": {
            "text/plain": [
              "<tf.Tensor: shape=(2, 3, 4, 5), dtype=float32, numpy=\n",
              "array([[[[0., 0., 0., 0., 0.],\n",
              "         [0., 0., 0., 0., 0.],\n",
              "         [0., 0., 0., 0., 0.],\n",
              "         [0., 0., 0., 0., 0.]],\n",
              "\n",
              "        [[0., 0., 0., 0., 0.],\n",
              "         [0., 0., 0., 0., 0.],\n",
              "         [0., 0., 0., 0., 0.],\n",
              "         [0., 0., 0., 0., 0.]],\n",
              "\n",
              "        [[0., 0., 0., 0., 0.],\n",
              "         [0., 0., 0., 0., 0.],\n",
              "         [0., 0., 0., 0., 0.],\n",
              "         [0., 0., 0., 0., 0.]]],\n",
              "\n",
              "\n",
              "       [[[0., 0., 0., 0., 0.],\n",
              "         [0., 0., 0., 0., 0.],\n",
              "         [0., 0., 0., 0., 0.],\n",
              "         [0., 0., 0., 0., 0.]],\n",
              "\n",
              "        [[0., 0., 0., 0., 0.],\n",
              "         [0., 0., 0., 0., 0.],\n",
              "         [0., 0., 0., 0., 0.],\n",
              "         [0., 0., 0., 0., 0.]],\n",
              "\n",
              "        [[0., 0., 0., 0., 0.],\n",
              "         [0., 0., 0., 0., 0.],\n",
              "         [0., 0., 0., 0., 0.],\n",
              "         [0., 0., 0., 0., 0.]]]], dtype=float32)>"
            ]
          },
          "metadata": {},
          "execution_count": 16
        }
      ]
    },
    {
      "cell_type": "code",
      "source": [
        "print(\"datatype\",rank_4_tensor.dtype)\n",
        "print(\"number\",rank_4_tensor.ndim)\n",
        "print(\"shape\",rank_4_tensor.shape)\n",
        "print(\"size\",tf.size(rank_4_tensor).numpy())"
      ],
      "metadata": {
        "colab": {
          "base_uri": "https://localhost:8080/"
        },
        "id": "FX5vOquahQiX",
        "outputId": "2b5a4ad4-43f6-425f-cd51-4b9d7064c8bc"
      },
      "execution_count": null,
      "outputs": [
        {
          "output_type": "stream",
          "name": "stdout",
          "text": [
            "datatype <dtype: 'float32'>\n",
            "number 4\n",
            "shape (2, 3, 4, 5)\n",
            "size 120\n"
          ]
        }
      ]
    },
    {
      "cell_type": "code",
      "source": [
        "r = tf.random.Generator.from_seed(7)\n",
        "\n",
        "# Generate random numbers from a normal distribution with the specified shape\n",
        "random_numbers = r.normal(shape=(3, 2))\n",
        "\n",
        "# Shuffle the random numbers\n",
        "shuffled_numbers = tf.random.shuffle(random_numbers, seed=42)\n",
        "\n",
        "print(shuffled_numbers)"
      ],
      "metadata": {
        "id": "yb5lke4gh9uo",
        "colab": {
          "base_uri": "https://localhost:8080/"
        },
        "outputId": "ab69baa9-c7ed-426e-870d-110f9d50307d"
      },
      "execution_count": null,
      "outputs": [
        {
          "output_type": "stream",
          "name": "stdout",
          "text": [
            "tf.Tensor(\n",
            "[[ 0.69211644  0.84215707]\n",
            " [-0.8757901  -0.08857018]\n",
            " [-1.3240396   0.28785667]], shape=(3, 2), dtype=float32)\n"
          ]
        }
      ]
    },
    {
      "cell_type": "code",
      "source": [
        "# prompt: great example to tensor and add dimension to it\n",
        "\n",
        "import tensorflow as tf\n",
        "\n",
        "# Create a 1-dimensional tensor\n",
        "tensor = tf.constant([1, 2, 3])\n",
        "\n",
        "# Add a new dimension to the tensor using tf.expand_dims\n",
        "expanded_tensor = tf.expand_dims(tensor, axis=1)\n",
        "\n",
        "# Print the original and expanded tensors\n",
        "print(\"Original tensor:\", tensor)\n",
        "print(\"Expanded tensor:\", expanded_tensor)\n"
      ],
      "metadata": {
        "id": "YITR2ak0HOYa",
        "colab": {
          "base_uri": "https://localhost:8080/"
        },
        "outputId": "58159b2f-4111-4194-81f4-840aa3e89bbe"
      },
      "execution_count": null,
      "outputs": [
        {
          "output_type": "stream",
          "name": "stdout",
          "text": [
            "Original tensor: tf.Tensor([1 2 3], shape=(3,), dtype=int32)\n",
            "Expanded tensor: tf.Tensor(\n",
            "[[1]\n",
            " [2]\n",
            " [3]], shape=(3, 1), dtype=int32)\n"
          ]
        }
      ]
    },
    {
      "cell_type": "code",
      "source": [
        "import tensorflow as tf\n",
        "\n",
        "\n",
        "# Create (3, 2) tensor\n",
        "X = tf.constant([[1, 2],\n",
        "                 [3, 4],\n",
        "                 [5, 6]])\n",
        "\n",
        "# Create another (3, 2) tensor\n",
        "Y = tf.constant([[7, 8],\n",
        "                 [9, 10],\n",
        "                 [11, 12]])\n",
        "X, Y"
      ],
      "metadata": {
        "id": "-anNQ0C2g0bB",
        "colab": {
          "base_uri": "https://localhost:8080/"
        },
        "outputId": "0ac3656e-6aee-4d75-a7ce-7a14d927e947"
      },
      "execution_count": null,
      "outputs": [
        {
          "output_type": "execute_result",
          "data": {
            "text/plain": [
              "(<tf.Tensor: shape=(3, 2), dtype=int32, numpy=\n",
              " array([[1, 2],\n",
              "        [3, 4],\n",
              "        [5, 6]], dtype=int32)>,\n",
              " <tf.Tensor: shape=(3, 2), dtype=int32, numpy=\n",
              " array([[ 7,  8],\n",
              "        [ 9, 10],\n",
              "        [11, 12]], dtype=int32)>)"
            ]
          },
          "metadata": {},
          "execution_count": 24
        }
      ]
    },
    {
      "cell_type": "code",
      "source": [
        "X ,Y"
      ],
      "metadata": {
        "id": "v8DTw7bAAw0Y",
        "colab": {
          "base_uri": "https://localhost:8080/"
        },
        "outputId": "f413acc8-889e-42e9-db3a-b3f5e514266e"
      },
      "execution_count": null,
      "outputs": [
        {
          "output_type": "execute_result",
          "data": {
            "text/plain": [
              "(<tf.Tensor: shape=(3, 2), dtype=int32, numpy=\n",
              " array([[1, 2],\n",
              "        [3, 4],\n",
              "        [5, 6]], dtype=int32)>,\n",
              " <tf.Tensor: shape=(3, 2), dtype=int32, numpy=\n",
              " array([[ 7,  8],\n",
              "        [ 9, 10],\n",
              "        [11, 12]], dtype=int32)>)"
            ]
          },
          "metadata": {},
          "execution_count": 27
        }
      ]
    },
    {
      "cell_type": "code",
      "source": [
        "tf.matmul(X, tf.reshape(Y,shape=(2,3)))"
      ],
      "metadata": {
        "colab": {
          "base_uri": "https://localhost:8080/"
        },
        "id": "5RLsX8EiDo6Q",
        "outputId": "ae985511-b5c1-489c-edb0-0f19753757d4"
      },
      "execution_count": null,
      "outputs": [
        {
          "output_type": "execute_result",
          "data": {
            "text/plain": [
              "<tf.Tensor: shape=(3, 3), dtype=int32, numpy=\n",
              "array([[ 27,  30,  33],\n",
              "       [ 61,  68,  75],\n",
              "       [ 95, 106, 117]], dtype=int32)>"
            ]
          },
          "metadata": {},
          "execution_count": 28
        }
      ]
    },
    {
      "cell_type": "code",
      "source": [
        "tf.reshape(Y,shape=(2,3))"
      ],
      "metadata": {
        "colab": {
          "base_uri": "https://localhost:8080/"
        },
        "id": "FTR-eVxWEFHn",
        "outputId": "92e42c98-a81f-43d8-a317-684873a57390"
      },
      "execution_count": null,
      "outputs": [
        {
          "output_type": "execute_result",
          "data": {
            "text/plain": [
              "<tf.Tensor: shape=(2, 3), dtype=int32, numpy=\n",
              "array([[ 7,  8,  9],\n",
              "       [10, 11, 12]], dtype=int32)>"
            ]
          },
          "metadata": {},
          "execution_count": 33
        }
      ]
    },
    {
      "cell_type": "code",
      "source": [
        "tf.transpose(Y).shape"
      ],
      "metadata": {
        "colab": {
          "base_uri": "https://localhost:8080/"
        },
        "id": "OwWhBsouEYJV",
        "outputId": "360fab54-6b46-4c27-8d61-9ab1156c3d95"
      },
      "execution_count": null,
      "outputs": [
        {
          "output_type": "execute_result",
          "data": {
            "text/plain": [
              "TensorShape([2, 3])"
            ]
          },
          "metadata": {},
          "execution_count": 37
        }
      ]
    },
    {
      "cell_type": "code",
      "source": [
        "tf.matmul(X,tf.transpose(Y))"
      ],
      "metadata": {
        "colab": {
          "base_uri": "https://localhost:8080/"
        },
        "id": "GxskGnMuEe8T",
        "outputId": "a26eb2e4-501c-4638-93db-400a3c2b7bc7"
      },
      "execution_count": null,
      "outputs": [
        {
          "output_type": "execute_result",
          "data": {
            "text/plain": [
              "<tf.Tensor: shape=(3, 3), dtype=int32, numpy=\n",
              "array([[ 23,  29,  35],\n",
              "       [ 53,  67,  81],\n",
              "       [ 83, 105, 127]], dtype=int32)>"
            ]
          },
          "metadata": {},
          "execution_count": 36
        }
      ]
    },
    {
      "cell_type": "code",
      "source": [
        "X @ tf.transpose(Y)"
      ],
      "metadata": {
        "colab": {
          "base_uri": "https://localhost:8080/"
        },
        "id": "fUvUJaYBEonz",
        "outputId": "ad0f799c-4e85-47e6-cad0-514edcccc43d"
      },
      "execution_count": null,
      "outputs": [
        {
          "output_type": "execute_result",
          "data": {
            "text/plain": [
              "<tf.Tensor: shape=(3, 3), dtype=int32, numpy=\n",
              "array([[ 23,  29,  35],\n",
              "       [ 53,  67,  81],\n",
              "       [ 83, 105, 127]], dtype=int32)>"
            ]
          },
          "metadata": {},
          "execution_count": 38
        }
      ]
    },
    {
      "cell_type": "code",
      "source": [
        "X.shape ,Y.shape"
      ],
      "metadata": {
        "colab": {
          "base_uri": "https://localhost:8080/"
        },
        "id": "CB7SHKucFHWw",
        "outputId": "27255244-122d-4965-b862-dc75d697778f"
      },
      "execution_count": null,
      "outputs": [
        {
          "output_type": "execute_result",
          "data": {
            "text/plain": [
              "(TensorShape([3, 2]), TensorShape([3, 2]))"
            ]
          },
          "metadata": {},
          "execution_count": 39
        }
      ]
    },
    {
      "cell_type": "code",
      "source": [
        "z=tf.constant([[1, 2,3,5],\n",
        "                 [3, 4,3,5],\n",
        "                 [5, 6,3,5]])\n",
        "w=tf.constant([[1, 2,5],\n",
        "                 [3, 4,5],\n",
        "                 [5, 6,5]])\n",
        "z.shape,w.shape"
      ],
      "metadata": {
        "colab": {
          "base_uri": "https://localhost:8080/"
        },
        "id": "gUuCpMu9FQ6Z",
        "outputId": "608609a2-aa1d-4301-f12f-5b1bff6d555c"
      },
      "execution_count": null,
      "outputs": [
        {
          "output_type": "execute_result",
          "data": {
            "text/plain": [
              "(TensorShape([3, 4]), TensorShape([3, 3]))"
            ]
          },
          "metadata": {},
          "execution_count": 45
        }
      ]
    },
    {
      "cell_type": "code",
      "source": [
        "tf.transpose(w) @z"
      ],
      "metadata": {
        "colab": {
          "base_uri": "https://localhost:8080/"
        },
        "id": "-PLJmoKhFepv",
        "outputId": "cd496632-ac66-43cb-c0b3-f9dac26cf111"
      },
      "execution_count": null,
      "outputs": [
        {
          "output_type": "execute_result",
          "data": {
            "text/plain": [
              "<tf.Tensor: shape=(3, 4), dtype=int32, numpy=\n",
              "array([[35, 44, 27, 45],\n",
              "       [44, 56, 36, 60],\n",
              "       [45, 60, 45, 75]], dtype=int32)>"
            ]
          },
          "metadata": {},
          "execution_count": 47
        }
      ]
    },
    {
      "cell_type": "code",
      "source": [
        "import tensorflow as tf\n",
        "\n",
        "\n",
        "# Create (3, 2) tensor\n",
        "X = tf.constant([[1, 2],\n",
        "                 [3, 4],\n",
        "                 [5, 6]])\n",
        "\n",
        "# Create another (3, 2) tensor\n",
        "Y = tf.constant([[7, 8],\n",
        "                 [9, 10],\n",
        "                 [11, 12]])\n",
        "\n",
        "X @ tf.reshape(Y,shape=(2,3))\n"
      ],
      "metadata": {
        "colab": {
          "base_uri": "https://localhost:8080/"
        },
        "id": "KJDN8i7GGTRK",
        "outputId": "9e751dc6-0b19-40bd-933f-529f1e0fa5f5"
      },
      "execution_count": null,
      "outputs": [
        {
          "output_type": "execute_result",
          "data": {
            "text/plain": [
              "<tf.Tensor: shape=(3, 3), dtype=int32, numpy=\n",
              "array([[ 27,  30,  33],\n",
              "       [ 61,  68,  75],\n",
              "       [ 95, 106, 117]], dtype=int32)>"
            ]
          },
          "metadata": {},
          "execution_count": 54
        }
      ]
    },
    {
      "cell_type": "code",
      "source": [
        "X @ tf.transpose(Y)"
      ],
      "metadata": {
        "colab": {
          "base_uri": "https://localhost:8080/"
        },
        "id": "DJuHirkTulnq",
        "outputId": "c1777e3a-9746-4e4b-bfd4-05a6755af197"
      },
      "execution_count": null,
      "outputs": [
        {
          "output_type": "execute_result",
          "data": {
            "text/plain": [
              "<tf.Tensor: shape=(3, 3), dtype=int32, numpy=\n",
              "array([[ 23,  29,  35],\n",
              "       [ 53,  67,  81],\n",
              "       [ 83, 105, 127]], dtype=int32)>"
            ]
          },
          "metadata": {},
          "execution_count": 56
        }
      ]
    },
    {
      "cell_type": "code",
      "source": [
        "import numpy as np\n",
        "r=tf.constant(np.random.randint(0,100,size=50))"
      ],
      "metadata": {
        "id": "zDf25fl2uTux"
      },
      "execution_count": 4,
      "outputs": []
    },
    {
      "cell_type": "code",
      "source": [
        "r"
      ],
      "metadata": {
        "colab": {
          "base_uri": "https://localhost:8080/"
        },
        "id": "Yn-99ULG-sx0",
        "outputId": "f91fee60-4d3a-4e9a-d544-3d7c8972d7e2"
      },
      "execution_count": 5,
      "outputs": [
        {
          "output_type": "execute_result",
          "data": {
            "text/plain": [
              "<tf.Tensor: shape=(50,), dtype=int64, numpy=\n",
              "array([85, 25, 26, 70, 58, 74, 93,  9, 72,  3, 38,  6, 60, 71, 16, 66, 28,\n",
              "       92, 31, 93, 66, 11, 45, 77, 16, 54, 53, 35, 87, 23, 47, 99, 56, 89,\n",
              "       17, 10,  3, 17, 48, 81, 28, 18, 78, 80, 49, 19, 53, 10, 59, 60])>"
            ]
          },
          "metadata": {},
          "execution_count": 5
        }
      ]
    },
    {
      "cell_type": "code",
      "source": [
        "tf.reduce_min(r)"
      ],
      "metadata": {
        "colab": {
          "base_uri": "https://localhost:8080/"
        },
        "id": "d2cy0E1t-9t3",
        "outputId": "e72305ce-22b1-46c2-94a6-7e70f399cdf3"
      },
      "execution_count": 7,
      "outputs": [
        {
          "output_type": "execute_result",
          "data": {
            "text/plain": [
              "<tf.Tensor: shape=(), dtype=int64, numpy=3>"
            ]
          },
          "metadata": {},
          "execution_count": 7
        }
      ]
    },
    {
      "cell_type": "code",
      "source": [
        "tf.reduce_max(r)"
      ],
      "metadata": {
        "colab": {
          "base_uri": "https://localhost:8080/"
        },
        "id": "hAClZnnZ_DP0",
        "outputId": "95b3e75b-09c5-4164-b5c9-4352f6a47fc4"
      },
      "execution_count": 9,
      "outputs": [
        {
          "output_type": "execute_result",
          "data": {
            "text/plain": [
              "<tf.Tensor: shape=(), dtype=int64, numpy=99>"
            ]
          },
          "metadata": {},
          "execution_count": 9
        }
      ]
    },
    {
      "cell_type": "code",
      "source": [
        "tf.reduce_mean(r)"
      ],
      "metadata": {
        "colab": {
          "base_uri": "https://localhost:8080/"
        },
        "id": "YOkC2b4K_N5l",
        "outputId": "82ade998-2829-45c9-abe8-7cb051d65043"
      },
      "execution_count": 10,
      "outputs": [
        {
          "output_type": "execute_result",
          "data": {
            "text/plain": [
              "<tf.Tensor: shape=(), dtype=int64, numpy=48>"
            ]
          },
          "metadata": {},
          "execution_count": 10
        }
      ]
    },
    {
      "cell_type": "code",
      "source": [
        "tf.abs(r)"
      ],
      "metadata": {
        "colab": {
          "base_uri": "https://localhost:8080/"
        },
        "id": "DPG8zJwK_W7C",
        "outputId": "b1331064-71e0-4166-f852-43fdae162191"
      },
      "execution_count": 11,
      "outputs": [
        {
          "output_type": "execute_result",
          "data": {
            "text/plain": [
              "<tf.Tensor: shape=(50,), dtype=int64, numpy=\n",
              "array([85, 25, 26, 70, 58, 74, 93,  9, 72,  3, 38,  6, 60, 71, 16, 66, 28,\n",
              "       92, 31, 93, 66, 11, 45, 77, 16, 54, 53, 35, 87, 23, 47, 99, 56, 89,\n",
              "       17, 10,  3, 17, 48, 81, 28, 18, 78, 80, 49, 19, 53, 10, 59, 60])>"
            ]
          },
          "metadata": {},
          "execution_count": 11
        }
      ]
    },
    {
      "cell_type": "code",
      "source": [
        "tf.reduce_sum(r)"
      ],
      "metadata": {
        "colab": {
          "base_uri": "https://localhost:8080/"
        },
        "id": "QHOqgPy-_Z4A",
        "outputId": "ec9bbe5b-e93d-4f16-d910-e1341372a0e7"
      },
      "execution_count": 12,
      "outputs": [
        {
          "output_type": "execute_result",
          "data": {
            "text/plain": [
              "<tf.Tensor: shape=(), dtype=int64, numpy=2404>"
            ]
          },
          "metadata": {},
          "execution_count": 12
        }
      ]
    },
    {
      "cell_type": "code",
      "source": [
        "import tensorflow_probability as tfp\n",
        "\n",
        "tfp.stats.variance(r)"
      ],
      "metadata": {
        "colab": {
          "base_uri": "https://localhost:8080/"
        },
        "id": "sliH6rB7_kgP",
        "outputId": "624b23c6-7833-4921-a96d-150e96d815c3"
      },
      "execution_count": 17,
      "outputs": [
        {
          "output_type": "execute_result",
          "data": {
            "text/plain": [
              "<tf.Tensor: shape=(), dtype=int64, numpy=817>"
            ]
          },
          "metadata": {},
          "execution_count": 17
        }
      ]
    },
    {
      "cell_type": "code",
      "source": [
        "new=tf.random.uniform(shape=[50])\n",
        "new"
      ],
      "metadata": {
        "colab": {
          "base_uri": "https://localhost:8080/"
        },
        "id": "1UOOKVwbAKjY",
        "outputId": "b4645b94-bf26-4ddd-a1eb-cfe87bfc20f7"
      },
      "execution_count": 21,
      "outputs": [
        {
          "output_type": "execute_result",
          "data": {
            "text/plain": [
              "<tf.Tensor: shape=(50,), dtype=float32, numpy=\n",
              "array([0.27394426, 0.24808693, 0.45575845, 0.6827853 , 0.84998405,\n",
              "       0.05367458, 0.12202835, 0.3471911 , 0.41027677, 0.01278734,\n",
              "       0.3818314 , 0.12692034, 0.7810432 , 0.4624139 , 0.97253406,\n",
              "       0.89025605, 0.2976644 , 0.26324928, 0.6663618 , 0.31720424,\n",
              "       0.86634827, 0.12227476, 0.30180693, 0.47138238, 0.03280747,\n",
              "       0.8996701 , 0.188465  , 0.7989043 , 0.37814856, 0.15494978,\n",
              "       0.4953766 , 0.07463241, 0.49531198, 0.8077235 , 0.6350515 ,\n",
              "       0.20314789, 0.03805697, 0.8163482 , 0.8153448 , 0.7124162 ,\n",
              "       0.27574372, 0.4595796 , 0.28149605, 0.6285459 , 0.8763336 ,\n",
              "       0.8513986 , 0.930506  , 0.5214621 , 0.3238305 , 0.09568584],\n",
              "      dtype=float32)>"
            ]
          },
          "metadata": {},
          "execution_count": 21
        }
      ]
    },
    {
      "cell_type": "code",
      "source": [
        "tf.argmax(new)"
      ],
      "metadata": {
        "colab": {
          "base_uri": "https://localhost:8080/"
        },
        "id": "tRkxYOykCzuF",
        "outputId": "0223e6f6-1d07-46da-a1a4-8dd4d797bdba"
      },
      "execution_count": 22,
      "outputs": [
        {
          "output_type": "execute_result",
          "data": {
            "text/plain": [
              "<tf.Tensor: shape=(), dtype=int64, numpy=14>"
            ]
          },
          "metadata": {},
          "execution_count": 22
        }
      ]
    },
    {
      "cell_type": "code",
      "source": [
        "new[tf.argmin(new)]"
      ],
      "metadata": {
        "colab": {
          "base_uri": "https://localhost:8080/"
        },
        "id": "_treUw1yDBwG",
        "outputId": "1fdd0fea-3d31-4405-b4c3-a82200da7d93"
      },
      "execution_count": 23,
      "outputs": [
        {
          "output_type": "execute_result",
          "data": {
            "text/plain": [
              "<tf.Tensor: shape=(), dtype=float32, numpy=0.012787342>"
            ]
          },
          "metadata": {},
          "execution_count": 23
        }
      ]
    },
    {
      "cell_type": "code",
      "source": [
        "some_list=[0,1,2,3,4]\n",
        "tf.one_hot(some_list,depth=5,on_value=\"green\",off_value=\"red\")"
      ],
      "metadata": {
        "colab": {
          "base_uri": "https://localhost:8080/"
        },
        "id": "M45VdM_KDG29",
        "outputId": "876cc715-b67a-4398-f3b8-64a4099c6b85"
      },
      "execution_count": 25,
      "outputs": [
        {
          "output_type": "execute_result",
          "data": {
            "text/plain": [
              "<tf.Tensor: shape=(5, 5), dtype=string, numpy=\n",
              "array([[b'green', b'red', b'red', b'red', b'red'],\n",
              "       [b'red', b'green', b'red', b'red', b'red'],\n",
              "       [b'red', b'red', b'green', b'red', b'red'],\n",
              "       [b'red', b'red', b'red', b'green', b'red'],\n",
              "       [b'red', b'red', b'red', b'red', b'green']], dtype=object)>"
            ]
          },
          "metadata": {},
          "execution_count": 25
        }
      ]
    },
    {
      "cell_type": "code",
      "source": [
        "ra=tf.constant(np.random.randint(0,1,size=[3,500]))\n",
        "ra"
      ],
      "metadata": {
        "colab": {
          "base_uri": "https://localhost:8080/"
        },
        "id": "JZz9NQ6cEp8j",
        "outputId": "27d15a01-6fa7-4f29-9b10-cd87b3b79f9a"
      },
      "execution_count": 27,
      "outputs": [
        {
          "output_type": "execute_result",
          "data": {
            "text/plain": [
              "<tf.Tensor: shape=(3, 500), dtype=int64, numpy=\n",
              "array([[0, 0, 0, ..., 0, 0, 0],\n",
              "       [0, 0, 0, ..., 0, 0, 0],\n",
              "       [0, 0, 0, ..., 0, 0, 0]])>"
            ]
          },
          "metadata": {},
          "execution_count": 27
        }
      ]
    },
    {
      "cell_type": "code",
      "source": [
        "second=tf.random.uniform(shape=[5,300])\n",
        "second"
      ],
      "metadata": {
        "colab": {
          "base_uri": "https://localhost:8080/"
        },
        "id": "mcxkwmAXH6X4",
        "outputId": "4a5bf52f-5722-4a0a-f9af-f4fb8bdc10b6"
      },
      "execution_count": 29,
      "outputs": [
        {
          "output_type": "execute_result",
          "data": {
            "text/plain": [
              "<tf.Tensor: shape=(5, 300), dtype=float32, numpy=\n",
              "array([[0.4633    , 0.39895606, 0.2768935 , ..., 0.7542082 , 0.43991852,\n",
              "        0.9380537 ],\n",
              "       [0.3762325 , 0.91095674, 0.6629844 , ..., 0.5723835 , 0.30483258,\n",
              "        0.34059918],\n",
              "       [0.28684223, 0.39223218, 0.9993231 , ..., 0.40152514, 0.1443193 ,\n",
              "        0.71311283],\n",
              "       [0.02919531, 0.04976952, 0.08997536, ..., 0.4520533 , 0.3487041 ,\n",
              "        0.8994063 ],\n",
              "       [0.46963155, 0.1597178 , 0.7452457 , ..., 0.34794164, 0.0693363 ,\n",
              "        0.2693869 ]], dtype=float32)>"
            ]
          },
          "metadata": {},
          "execution_count": 29
        }
      ]
    },
    {
      "cell_type": "code",
      "source": [
        "third=tf.random.uniform(shape=[5,300])"
      ],
      "metadata": {
        "id": "8Z5sg-1lH-0S"
      },
      "execution_count": 30,
      "outputs": []
    },
    {
      "cell_type": "code",
      "source": [
        "second @ third"
      ],
      "metadata": {
        "colab": {
          "base_uri": "https://localhost:8080/",
          "height": 356
        },
        "id": "xziGwYZhIUGH",
        "outputId": "b6652e4c-072e-40bd-dbad-0b5b56e9bad4"
      },
      "execution_count": 31,
      "outputs": [
        {
          "output_type": "error",
          "ename": "InvalidArgumentError",
          "evalue": "{{function_node __wrapped__MatMul_device_/job:localhost/replica:0/task:0/device:CPU:0}} Matrix size-incompatible: In[0]: [5,300], In[1]: [5,300] [Op:MatMul] name: ",
          "traceback": [
            "\u001b[0;31m---------------------------------------------------------------------------\u001b[0m",
            "\u001b[0;31mInvalidArgumentError\u001b[0m                      Traceback (most recent call last)",
            "\u001b[0;32m<ipython-input-31-ecdd34bdd003>\u001b[0m in \u001b[0;36m<cell line: 1>\u001b[0;34m()\u001b[0m\n\u001b[0;32m----> 1\u001b[0;31m \u001b[0msecond\u001b[0m \u001b[0;34m@\u001b[0m \u001b[0mthird\u001b[0m\u001b[0;34m\u001b[0m\u001b[0;34m\u001b[0m\u001b[0m\n\u001b[0m",
            "\u001b[0;32m/usr/local/lib/python3.10/dist-packages/tensorflow/python/util/traceback_utils.py\u001b[0m in \u001b[0;36merror_handler\u001b[0;34m(*args, **kwargs)\u001b[0m\n\u001b[1;32m    151\u001b[0m     \u001b[0;32mexcept\u001b[0m \u001b[0mException\u001b[0m \u001b[0;32mas\u001b[0m \u001b[0me\u001b[0m\u001b[0;34m:\u001b[0m\u001b[0;34m\u001b[0m\u001b[0;34m\u001b[0m\u001b[0m\n\u001b[1;32m    152\u001b[0m       \u001b[0mfiltered_tb\u001b[0m \u001b[0;34m=\u001b[0m \u001b[0m_process_traceback_frames\u001b[0m\u001b[0;34m(\u001b[0m\u001b[0me\u001b[0m\u001b[0;34m.\u001b[0m\u001b[0m__traceback__\u001b[0m\u001b[0;34m)\u001b[0m\u001b[0;34m\u001b[0m\u001b[0;34m\u001b[0m\u001b[0m\n\u001b[0;32m--> 153\u001b[0;31m       \u001b[0;32mraise\u001b[0m \u001b[0me\u001b[0m\u001b[0;34m.\u001b[0m\u001b[0mwith_traceback\u001b[0m\u001b[0;34m(\u001b[0m\u001b[0mfiltered_tb\u001b[0m\u001b[0;34m)\u001b[0m \u001b[0;32mfrom\u001b[0m \u001b[0;32mNone\u001b[0m\u001b[0;34m\u001b[0m\u001b[0;34m\u001b[0m\u001b[0m\n\u001b[0m\u001b[1;32m    154\u001b[0m     \u001b[0;32mfinally\u001b[0m\u001b[0;34m:\u001b[0m\u001b[0;34m\u001b[0m\u001b[0;34m\u001b[0m\u001b[0m\n\u001b[1;32m    155\u001b[0m       \u001b[0;32mdel\u001b[0m \u001b[0mfiltered_tb\u001b[0m\u001b[0;34m\u001b[0m\u001b[0;34m\u001b[0m\u001b[0m\n",
            "\u001b[0;32m/usr/local/lib/python3.10/dist-packages/tensorflow/python/framework/ops.py\u001b[0m in \u001b[0;36mraise_from_not_ok_status\u001b[0;34m(e, name)\u001b[0m\n\u001b[1;32m   5881\u001b[0m \u001b[0;32mdef\u001b[0m \u001b[0mraise_from_not_ok_status\u001b[0m\u001b[0;34m(\u001b[0m\u001b[0me\u001b[0m\u001b[0;34m,\u001b[0m \u001b[0mname\u001b[0m\u001b[0;34m)\u001b[0m \u001b[0;34m->\u001b[0m \u001b[0mNoReturn\u001b[0m\u001b[0;34m:\u001b[0m\u001b[0;34m\u001b[0m\u001b[0;34m\u001b[0m\u001b[0m\n\u001b[1;32m   5882\u001b[0m   \u001b[0me\u001b[0m\u001b[0;34m.\u001b[0m\u001b[0mmessage\u001b[0m \u001b[0;34m+=\u001b[0m \u001b[0;34m(\u001b[0m\u001b[0;34m\" name: \"\u001b[0m \u001b[0;34m+\u001b[0m \u001b[0mstr\u001b[0m\u001b[0;34m(\u001b[0m\u001b[0mname\u001b[0m \u001b[0;32mif\u001b[0m \u001b[0mname\u001b[0m \u001b[0;32mis\u001b[0m \u001b[0;32mnot\u001b[0m \u001b[0;32mNone\u001b[0m \u001b[0;32melse\u001b[0m \u001b[0;34m\"\"\u001b[0m\u001b[0;34m)\u001b[0m\u001b[0;34m)\u001b[0m\u001b[0;34m\u001b[0m\u001b[0;34m\u001b[0m\u001b[0m\n\u001b[0;32m-> 5883\u001b[0;31m   \u001b[0;32mraise\u001b[0m \u001b[0mcore\u001b[0m\u001b[0;34m.\u001b[0m\u001b[0m_status_to_exception\u001b[0m\u001b[0;34m(\u001b[0m\u001b[0me\u001b[0m\u001b[0;34m)\u001b[0m \u001b[0;32mfrom\u001b[0m \u001b[0;32mNone\u001b[0m  \u001b[0;31m# pylint: disable=protected-access\u001b[0m\u001b[0;34m\u001b[0m\u001b[0;34m\u001b[0m\u001b[0m\n\u001b[0m\u001b[1;32m   5884\u001b[0m \u001b[0;34m\u001b[0m\u001b[0m\n\u001b[1;32m   5885\u001b[0m \u001b[0;34m\u001b[0m\u001b[0m\n",
            "\u001b[0;31mInvalidArgumentError\u001b[0m: {{function_node __wrapped__MatMul_device_/job:localhost/replica:0/task:0/device:CPU:0}} Matrix size-incompatible: In[0]: [5,300], In[1]: [5,300] [Op:MatMul] name: "
          ]
        }
      ]
    },
    {
      "cell_type": "code",
      "source": [
        "second @ tf.transpose(third)"
      ],
      "metadata": {
        "colab": {
          "base_uri": "https://localhost:8080/"
        },
        "id": "s31Z02rrIWZG",
        "outputId": "e1d8024e-299a-4044-efdf-55f2f688d1d2"
      },
      "execution_count": 32,
      "outputs": [
        {
          "output_type": "execute_result",
          "data": {
            "text/plain": [
              "<tf.Tensor: shape=(5, 5), dtype=float32, numpy=\n",
              "array([[75.81613 , 77.01495 , 71.71501 , 75.7377  , 72.03529 ],\n",
              "       [75.742546, 76.125725, 73.356995, 75.46025 , 78.621124],\n",
              "       [73.63908 , 74.206314, 71.574234, 73.4806  , 73.415215],\n",
              "       [79.608925, 79.15279 , 75.97212 , 78.03901 , 80.30357 ],\n",
              "       [71.54407 , 74.829834, 71.862274, 74.20404 , 75.452866]],\n",
              "      dtype=float32)>"
            ]
          },
          "metadata": {},
          "execution_count": 32
        }
      ]
    },
    {
      "cell_type": "code",
      "source": [
        "tf.tensordot(tf.transpose(third),second, axes=1)"
      ],
      "metadata": {
        "colab": {
          "base_uri": "https://localhost:8080/"
        },
        "id": "FRUBRCvZIa5A",
        "outputId": "22317e90-ca00-40e8-a3b6-d1df1586421a"
      },
      "execution_count": 35,
      "outputs": [
        {
          "output_type": "execute_result",
          "data": {
            "text/plain": [
              "<tf.Tensor: shape=(300, 300), dtype=float32, numpy=\n",
              "array([[0.5586612 , 0.5719794 , 1.0976871 , ..., 0.9128636 , 0.46987334,\n",
              "        1.2797539 ],\n",
              "       [1.0655092 , 1.4608479 , 1.9693553 , ..., 1.5833267 , 0.787819  ,\n",
              "        1.8466686 ],\n",
              "       [1.0450324 , 1.2116971 , 1.9074174 , ..., 1.7028046 , 0.88797635,\n",
              "        2.3087258 ],\n",
              "       ...,\n",
              "       [0.91995144, 0.8672574 , 1.3988663 , ..., 1.2419841 , 0.59582055,\n",
              "        1.5132973 ],\n",
              "       [1.3500762 , 1.5037318 , 2.309175  , ..., 2.1287386 , 1.1053805 ,\n",
              "        2.7633476 ],\n",
              "       [0.9102325 , 1.2451842 , 1.3601754 , ..., 1.4810731 , 0.81098473,\n",
              "        1.6342427 ]], dtype=float32)>"
            ]
          },
          "metadata": {},
          "execution_count": 35
        }
      ]
    },
    {
      "cell_type": "code",
      "source": [
        "nn=tf.random.uniform(shape=[224, 224, 3])\n",
        "nn"
      ],
      "metadata": {
        "colab": {
          "base_uri": "https://localhost:8080/"
        },
        "id": "Mvq_-utMI7ts",
        "outputId": "dbff306a-7179-45c9-8233-cdcc6fe7bcec"
      },
      "execution_count": 36,
      "outputs": [
        {
          "output_type": "execute_result",
          "data": {
            "text/plain": [
              "<tf.Tensor: shape=(224, 224, 3), dtype=float32, numpy=\n",
              "array([[[2.6859641e-01, 7.9126894e-01, 3.7114799e-01],\n",
              "        [5.3606522e-01, 9.0883911e-01, 3.8814437e-01],\n",
              "        [1.5408969e-01, 3.2032645e-01, 1.7776132e-02],\n",
              "        ...,\n",
              "        [2.4532890e-01, 9.5612681e-01, 9.5164573e-01],\n",
              "        [1.2784505e-01, 5.5106401e-01, 9.7734642e-01],\n",
              "        [8.4592271e-01, 7.3370016e-01, 9.6682978e-01]],\n",
              "\n",
              "       [[5.0036275e-01, 1.9634271e-01, 7.6264143e-01],\n",
              "        [2.9014814e-01, 9.3491590e-01, 6.7670000e-01],\n",
              "        [6.6994727e-01, 6.6076541e-01, 5.2295196e-01],\n",
              "        ...,\n",
              "        [1.9737148e-01, 6.0025716e-01, 6.7596424e-01],\n",
              "        [2.9008448e-01, 5.4743123e-01, 9.8403358e-01],\n",
              "        [2.6022947e-01, 9.4183135e-01, 4.8580170e-03]],\n",
              "\n",
              "       [[3.4724355e-02, 3.2103527e-01, 2.2387171e-01],\n",
              "        [6.8989527e-01, 2.4438059e-01, 8.4474170e-01],\n",
              "        [7.0006096e-01, 7.3810816e-03, 6.4364195e-02],\n",
              "        ...,\n",
              "        [1.0869002e-01, 8.4548986e-01, 9.8691142e-01],\n",
              "        [7.2052908e-01, 2.1183443e-01, 1.3249958e-01],\n",
              "        [3.8050818e-01, 8.2849860e-01, 7.8438199e-01]],\n",
              "\n",
              "       ...,\n",
              "\n",
              "       [[8.5387826e-01, 2.6109338e-01, 6.3211060e-01],\n",
              "        [4.9489021e-02, 3.4798050e-01, 8.6051261e-01],\n",
              "        [1.0644424e-01, 4.5216084e-04, 3.6704350e-01],\n",
              "        ...,\n",
              "        [7.8022540e-01, 5.5372190e-01, 2.0373201e-01],\n",
              "        [2.8258598e-01, 4.5880163e-01, 1.8416917e-01],\n",
              "        [1.4099944e-01, 9.6837771e-01, 5.9216464e-01]],\n",
              "\n",
              "       [[6.7120409e-01, 2.1996808e-01, 2.1909356e-01],\n",
              "        [5.1605821e-01, 7.6874590e-01, 8.8446689e-01],\n",
              "        [7.1511674e-01, 6.9569540e-01, 2.9213786e-01],\n",
              "        ...,\n",
              "        [6.7315495e-01, 6.6519630e-01, 1.6369689e-01],\n",
              "        [3.5118079e-01, 9.0648770e-01, 4.4170856e-02],\n",
              "        [4.9810863e-01, 3.0145597e-01, 7.0913446e-01]],\n",
              "\n",
              "       [[3.6554122e-01, 7.8014076e-01, 3.0538678e-01],\n",
              "        [9.4324458e-01, 1.4146566e-01, 2.9819286e-01],\n",
              "        [3.5210299e-01, 6.7794478e-01, 9.2516625e-01],\n",
              "        ...,\n",
              "        [1.0462332e-01, 8.2848251e-01, 1.4483643e-01],\n",
              "        [5.1232576e-02, 3.0488253e-01, 2.0919633e-01],\n",
              "        [2.1673357e-01, 5.9584343e-01, 9.1646028e-01]]], dtype=float32)>"
            ]
          },
          "metadata": {},
          "execution_count": 36
        }
      ]
    },
    {
      "cell_type": "code",
      "source": [
        "tf.reduce_max(nn)"
      ],
      "metadata": {
        "colab": {
          "base_uri": "https://localhost:8080/"
        },
        "id": "T5m-yXHzJena",
        "outputId": "2b1d938c-3742-4b5d-aaa8-7fd49aa26700"
      },
      "execution_count": 37,
      "outputs": [
        {
          "output_type": "execute_result",
          "data": {
            "text/plain": [
              "<tf.Tensor: shape=(), dtype=float32, numpy=0.99999046>"
            ]
          },
          "metadata": {},
          "execution_count": 37
        }
      ]
    },
    {
      "cell_type": "code",
      "source": [
        "tf.reduce_min(nn)"
      ],
      "metadata": {
        "colab": {
          "base_uri": "https://localhost:8080/"
        },
        "id": "eYjULC1TJlJB",
        "outputId": "d6f3364f-96c1-4bd8-821c-0195e81cbbd6"
      },
      "execution_count": 38,
      "outputs": [
        {
          "output_type": "execute_result",
          "data": {
            "text/plain": [
              "<tf.Tensor: shape=(), dtype=float32, numpy=1.1920929e-06>"
            ]
          },
          "metadata": {},
          "execution_count": 38
        }
      ]
    },
    {
      "cell_type": "code",
      "source": [
        "tt=np.random.rand(1, 224, 224, 3)"
      ],
      "metadata": {
        "id": "oHyblYkHJoFY"
      },
      "execution_count": 39,
      "outputs": []
    },
    {
      "cell_type": "code",
      "source": [
        "tt"
      ],
      "metadata": {
        "colab": {
          "base_uri": "https://localhost:8080/"
        },
        "id": "U8iPleTVKF2I",
        "outputId": "41509737-5751-43fc-d4ae-6ba10c0862c7"
      },
      "execution_count": 40,
      "outputs": [
        {
          "output_type": "execute_result",
          "data": {
            "text/plain": [
              "array([[[[0.11792917, 0.43202798, 0.89330111],\n",
              "         [0.74166533, 0.40965581, 0.05089769],\n",
              "         [0.27358083, 0.81870676, 0.07851004],\n",
              "         ...,\n",
              "         [0.30188556, 0.72175756, 0.15774415],\n",
              "         [0.94586366, 0.0263762 , 0.85397346],\n",
              "         [0.26621052, 0.52574753, 0.35580608]],\n",
              "\n",
              "        [[0.44590491, 0.81236343, 0.22592668],\n",
              "         [0.75149638, 0.17397856, 0.44158681],\n",
              "         [0.87312499, 0.52827234, 0.79780836],\n",
              "         ...,\n",
              "         [0.32946522, 0.97391757, 0.88450306],\n",
              "         [0.79688344, 0.50275956, 0.87312225],\n",
              "         [0.37028827, 0.85414381, 0.24316223]],\n",
              "\n",
              "        [[0.9405102 , 0.43870352, 0.85800394],\n",
              "         [0.49312805, 0.44799505, 0.46935136],\n",
              "         [0.05701204, 0.81399171, 0.24580404],\n",
              "         ...,\n",
              "         [0.23706224, 0.1231507 , 0.42980934],\n",
              "         [0.508062  , 0.9222712 , 0.45447108],\n",
              "         [0.98980934, 0.08880694, 0.49194477]],\n",
              "\n",
              "        ...,\n",
              "\n",
              "        [[0.44267605, 0.30276965, 0.36002963],\n",
              "         [0.01130322, 0.17234827, 0.56308573],\n",
              "         [0.00899258, 0.61809149, 0.41453791],\n",
              "         ...,\n",
              "         [0.95478972, 0.29266266, 0.82430758],\n",
              "         [0.27909584, 0.33152261, 0.9837379 ],\n",
              "         [0.20258524, 0.19574207, 0.55863436]],\n",
              "\n",
              "        [[0.98338595, 0.73553967, 0.67618881],\n",
              "         [0.36125883, 0.67421321, 0.92855925],\n",
              "         [0.9858945 , 0.39674672, 0.23161508],\n",
              "         ...,\n",
              "         [0.04747557, 0.95148237, 0.16665682],\n",
              "         [0.29597887, 0.34415458, 0.93718458],\n",
              "         [0.65815644, 0.14759426, 0.72834567]],\n",
              "\n",
              "        [[0.63470821, 0.58826533, 0.97353799],\n",
              "         [0.96828886, 0.96603745, 0.30325702],\n",
              "         [0.67865232, 0.16372424, 0.14844266],\n",
              "         ...,\n",
              "         [0.7296247 , 0.51283547, 0.04888201],\n",
              "         [0.52678242, 0.34985392, 0.52639621],\n",
              "         [0.35165447, 0.19748728, 0.99519411]]]])"
            ]
          },
          "metadata": {},
          "execution_count": 40
        }
      ]
    },
    {
      "cell_type": "code",
      "source": [
        "np.squeeze(tt).shape"
      ],
      "metadata": {
        "colab": {
          "base_uri": "https://localhost:8080/"
        },
        "id": "zmhMh4tgKHOe",
        "outputId": "7ed2e914-3672-4c89-bff3-bc0aecd5a5d5"
      },
      "execution_count": 43,
      "outputs": [
        {
          "output_type": "execute_result",
          "data": {
            "text/plain": [
              "(224, 224, 3)"
            ]
          },
          "metadata": {},
          "execution_count": 43
        }
      ]
    },
    {
      "cell_type": "code",
      "source": [],
      "metadata": {
        "id": "k1_vs8mJKTO9"
      },
      "execution_count": null,
      "outputs": []
    }
  ]
}